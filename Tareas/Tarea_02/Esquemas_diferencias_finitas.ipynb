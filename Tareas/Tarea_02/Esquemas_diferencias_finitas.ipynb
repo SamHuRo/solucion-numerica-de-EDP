{
 "cells": [
  {
   "cell_type": "markdown",
   "id": "f18d4a5e",
   "metadata": {},
   "source": [
    "---\n",
    "\n",
    "<center>\n",
    "\n",
    "# **Esquemas de Diferencias Finitas**\n",
    "\n",
    "**Made by:**\n",
    "\n",
    "Samuel Huertas Rojas\n",
    "\n",
    "</center>\n",
    "\n",
    "---"
   ]
  },
  {
   "cell_type": "markdown",
   "id": "42283693",
   "metadata": {},
   "source": [
    "# Marco teórico  "
   ]
  },
  {
   "cell_type": "markdown",
   "id": "348c0d4d",
   "metadata": {},
   "source": [
    "Para empezar a hablar de los esquemas de diferencias finitas, inicialmente se debe de considerar el problema de valores iniciales y de frontera, el cual es:  <br>\n",
    "\n",
    "<center>\n",
    "\n",
    "$\n",
    "\\begin{cases}\n",
    "u_{t}(t,x) + a u_{x}(t,x) = f(t,x), \\text{con: } x \\in (\\hat{a},b); t > 0 \\\\\n",
    "u(0,x) = u_{0}(x) \\text{con: } x \\in [\\hat{a},b] \\\\\n",
    "u(t,\\hat{a}) = g_{1}(t); t \\geq 0 \\\\\n",
    "u(t, b) = g_{2}(t); t \\geq 0\n",
    "\\end{cases}\n",
    "$\n",
    "\n",
    "</center>"
   ]
  },
  {
   "cell_type": "markdown",
   "id": "25f58f25",
   "metadata": {},
   "source": [
    "Al realizar la discretización de la región, obtenemos que el tamaño de paso espacial y temporal es:  <br>\n",
    "<center>\n",
    "\n",
    "$\n",
    "\\text{Paso espacial}\n",
    "\\begin{cases}\n",
    "h = \\frac{b - \\hat{a}}{M} \\\\\n",
    "x_{m} = \\hat{a} + mh, \\text{con: } m = 0,...,M\n",
    "\\end{cases}\n",
    "$\n",
    "\n",
    "$\n",
    "\\text{Paso temporal}\n",
    "\\begin{cases}\n",
    "k = \\frac{T}{n} \\\\\n",
    "t_{n} = nk, \\text{con: } n = 0,...,N\n",
    "\\end{cases}\n",
    "$\n",
    "\n",
    "</center>"
   ]
  },
  {
   "cell_type": "markdown",
   "id": "1b4c17c2",
   "metadata": {},
   "source": [
    "Los valores que conocemos van a ser:  <br>\n",
    "\n",
    "<center>\n",
    "\n",
    "$\n",
    "\\begin{cases}\n",
    "u(0,x_m) = u_{0}(x_m); \\text{con: } m = 0,...,M \\\\\n",
    "u(t_n, x_0) = g_1(t_n); \\text{con: } n = 1,...,N \\\\\n",
    "u(t_n, x_M) = g_2(t_n); \\text{con: } n = 1,...,N\n",
    "\\end{cases}\n",
    "$\n",
    "\n",
    "</center>"
   ]
  },
  {
   "cell_type": "markdown",
   "id": "35725941",
   "metadata": {},
   "source": [
    "Al emplear la discretización de la Ecuación Diferencial Parcial Hiperbólica (E.D.P.H) y al emplear las Diferencias Finitas (D.F), se obtiene:  <br>\n",
    "<center>\n",
    "\n",
    "$u_t(t_n,x_m) + a u_x(t_n,x_m) = f(t_n,x_m)$\n",
    "\n",
    "</center>\n",
    "\n",
    "Con: \n",
    "\n",
    "<center>\n",
    "\n",
    "$\n",
    "\\begin{cases}\n",
    "u_t(t_n,x_m) \\approx \\frac{u(t_{n+1},x_m) - u(t_n,x_m)}{k} , \\text{D.F progresiva} \\\\\n",
    "u_x(t_n,x_m) \\approx \\frac{u(t_{n},x_{m+1}) - u(t_n,x_{m-1})}{2h} , \\text{D.F centrada}\n",
    "\\end{cases}\n",
    "$\n",
    "\n",
    "</center>\n",
    "\n",
    "Para mayor facilidad se va a denotar:  \n",
    "\n",
    "* $V_{m}^{n}$ la aproximación de $u(t_n, x_m)$\n",
    "* $f_{m}^{n}$ la función $f(t_n, x_m)$"
   ]
  },
  {
   "cell_type": "markdown",
   "id": "b97344b6",
   "metadata": {},
   "source": [
    "# Importar las funciones de factorización de matrices "
   ]
  },
  {
   "cell_type": "code",
   "execution_count": null,
   "id": "b439f305",
   "metadata": {},
   "outputs": [],
   "source": [
    "import sys\n",
    "sys.path.append('../Tarea_01')\n",
    "\n",
    "import numpy as np\n",
    "from Factorizacion_matrices import matrix_factorization_nxn\n"
   ]
  },
  {
   "cell_type": "markdown",
   "id": "ffb6ba49",
   "metadata": {},
   "source": [
    "# Definición de las vataibles"
   ]
  },
  {
   "cell_type": "code",
   "execution_count": null,
   "id": "05169c68",
   "metadata": {},
   "outputs": [],
   "source": [
    "temporal_variable = np.linspace(1, 10, 10)\n",
    "spatial_variable = np.linspace(1, 10, 10)"
   ]
  },
  {
   "cell_type": "markdown",
   "id": "703e9bca",
   "metadata": {},
   "source": [
    "# Esquemas"
   ]
  },
  {
   "cell_type": "markdown",
   "id": "2bc8abb2",
   "metadata": {},
   "source": [
    "## Esquema t: progresivo, x: progresivo; Explicito de un paso"
   ]
  },
  {
   "cell_type": "markdown",
   "id": "b6ce8096",
   "metadata": {},
   "source": [
    "$ \\frac{V_{m}^{n+1} - V_{m}^{n}}{k} + a \\frac{V_{m+1}^{n} - V_{m}^{n}}{h} = f_{m}^{n}$\n",
    "\n",
    "Despejando para el timepo $t_{n+1}$:\n",
    "\n",
    "$V_{m}^{n+1} = (1-\\frac{ak}{h}) V_{m}^{n} - \\frac{ak}{h} V_{m+1}^{n} + kf_{m}^{n}$ con: $m=1,..., M-1$ y $n=0,..,N-1$"
   ]
  },
  {
   "cell_type": "markdown",
   "id": "7e373a1d",
   "metadata": {},
   "source": [
    "Resolviendo el sistema lineal de ecuaciones, nos damos cuenta que se puede resolver como una sistema matricial: <br>\n",
    "<center>\n",
    "\n",
    "$V^{n+1} = AV^{n} + \\hat{F}$\n",
    "\n",
    "</center>\n",
    "\n",
    "Lo que nos da la matriz $A$ como:\n",
    "\n",
    "<center>\n",
    "\n",
    "$\n",
    "A = \\begin{bmatrix}\n",
    "1-\\frac{ak}{h} & -\\frac{ak}{h}   & 0               & 0                & 0               & 0              \\\\\n",
    "0              & 1-\\frac{ak}{h} & -\\frac{ak}{h}    & 0                & 0               & \\vdots         \\\\\n",
    "0              & 0               & 1-\\frac{ak}{h}  & -\\frac{ak}{h}    & 0               & \\vdots         \\\\\n",
    "0              & 0               & 0               & 1-\\frac{ak}{h}   & \\ddots          & 0              \\\\\n",
    "\\vdots         & \\vdots          & \\vdots          & 0                & \\ddots          & -\\frac{ak}{h}  \\\\\n",
    "0              & 0               & 0               & 0                & 0               & 1-\\frac{ak}{h} \\\\\n",
    "\\end{bmatrix}\n",
    "$\n",
    "\n",
    "</center>\n",
    "\n",
    "\n",
    "\n",
    "<center>\n",
    "\n",
    "$\n",
    "\\hat{F} = \\begin{bmatrix}\n",
    "k \\\\\n",
    "k \\\\\n",
    "k \\\\\n",
    "k \\\\\n",
    "\\vdots \\\\\n",
    "k - \\frac{ak}{h} \n",
    "\\end{bmatrix}\n",
    "$\n",
    "\n",
    "</center>\n"
   ]
  },
  {
   "cell_type": "code",
   "execution_count": null,
   "id": "c4dda65a",
   "metadata": {},
   "outputs": [],
   "source": []
  },
  {
   "cell_type": "code",
   "execution_count": null,
   "id": "41a3ebe0",
   "metadata": {},
   "outputs": [],
   "source": []
  },
  {
   "cell_type": "markdown",
   "id": "247a369e",
   "metadata": {},
   "source": [
    "## Esquema t: progresivo, x: regresivo; Explicito de un paso"
   ]
  },
  {
   "cell_type": "markdown",
   "id": "b1e4ddba",
   "metadata": {},
   "source": [
    "$ \\frac{V_{m}^{n+1} - V_{m}^{n}}{k} + a \\frac{V_{m}^{n} - V_{m-1}^{n}}{h} = f_{m}^{n}$\n",
    "\n",
    "Despejando para el timepo $t_{n+1}$:\n",
    "\n",
    "$V_{m}^{n+1} = (1-\\frac{ak}{h}) V_{m}^{n} + \\frac{ak}{h} V_{m-1}^{n} + kf_{m}^{n}$ con: $m=1,..., M-1$ y $n=0,..,N-1$"
   ]
  },
  {
   "cell_type": "markdown",
   "id": "dc5dd4f1",
   "metadata": {},
   "source": [
    "Resolviendo el sistema lineal de ecuaciones, nos damos cuenta que se puede resolver como una sistema matricial: <br>\n",
    "<center>\n",
    "\n",
    "$V^{n+1} = AV^{n} + \\tilde{F}$\n",
    "\n",
    "</center>\n",
    "\n",
    "Lo que nos da la matriz $A$ como:\n",
    "\n",
    "<center>\n",
    "\n",
    "$\n",
    "A = \\begin{bmatrix}\n",
    "1-\\frac{ak}{h} & 0               & 0               & 0                & 0               & 0              \\\\\n",
    "\\frac{ak}{h}   & 1-\\frac{ak}{h}  & 0               & 0                & 0               & \\vdots         \\\\\n",
    "0              & \\frac{ak}{h}    & 1-\\frac{ak}{h}  & 0                & 0               & \\vdots         \\\\\n",
    "0              & 0               & \\frac{ak}{h}    & 1-\\frac{ak}{h}   & 0               & \\vdots         \\\\\n",
    "\\vdots         & \\vdots          & 0               & \\ddots           & \\ddots          & 0              \\\\\n",
    "0              & 0               & 0               & 0                & \\frac{ak}{h}   & 1-\\frac{ak}{h} \\\\\n",
    "\\end{bmatrix}\n",
    "$\n",
    "\n",
    "</center>\n",
    "\n",
    "\n",
    "\n",
    "<center>\n",
    "\n",
    "$\n",
    "\\tilde{F} = \\begin{bmatrix}\n",
    "k + \\frac{ak}{h} \\\\\n",
    "k \\\\\n",
    "k \\\\\n",
    "k \\\\\n",
    "\\vdots \\\\\n",
    "k  \n",
    "\\end{bmatrix}\n",
    "$\n",
    "\n",
    "</center>"
   ]
  },
  {
   "cell_type": "code",
   "execution_count": null,
   "id": "74ce0340",
   "metadata": {},
   "outputs": [],
   "source": []
  },
  {
   "cell_type": "code",
   "execution_count": null,
   "metadata": {},
   "outputs": [],
   "source": []
  },
  {
   "cell_type": "markdown",
   "id": "a9b20e63",
   "metadata": {},
   "source": [
    "## Esquema t: progresivo, x: centrado; Explicito de un paso"
   ]
  },
  {
   "cell_type": "markdown",
   "id": "f7bd8001",
   "metadata": {},
   "source": [
    "$ \\frac{V_{m}^{n+1} - V_{m}^{n}}{k} + a \\frac{V_{m+1}^{n} - V_{m-1}^{n}}{2h} = f_{m}^{n}$\n",
    "\n",
    "Despejando para el timepo $t_{n+1}$:\n",
    "\n",
    "$V_{m}^{n+1} = V_{m}^{n} + \\frac{ak}{2h} (V_{m-1}^{n} - V_{m+1}^{n}) + kf_{m}^{n}$ con: $m=1,..., M-1$ y $n=0,..,N-1$"
   ]
  },
  {
   "cell_type": "markdown",
   "id": "82eb2126",
   "metadata": {},
   "source": [
    "Resolviendo el sistema lineal de ecuaciones, nos damos cuenta que se puede resolver como una sistema matricial: <br>\n",
    "<center>\n",
    "\n",
    "$V^{n+1} = AV^{n} + \\tilde{\\hat{F}}$\n",
    "\n",
    "</center>\n",
    "\n",
    "Lo que nos da la matriz $A$ como:\n",
    "\n",
    "<center>\n",
    "\n",
    "$\n",
    "A = \\begin{bmatrix}\n",
    "1              & -\\frac{ak}{2h}   & 0               & 0                & 0               & 0              \\\\\n",
    "\\frac{ak}{2h}  & 1               & -\\frac{ak}{2h}   & 0                & 0               & \\vdots         \\\\\n",
    "0              & \\frac{ak}{2h}   & 1               & -\\frac{ak}{2h}    & 0               & \\vdots         \\\\\n",
    "0              & 0               & \\frac{ak}{2h}   & \\ddots           & \\ddots          & 0              \\\\\n",
    "\\vdots         & \\vdots          & 0               & \\ddots           & \\ddots          & -\\frac{ak}{2h}  \\\\\n",
    "0              & 0               & 0               & 0                & \\frac{ak}{2h}   & 1              \\\\\n",
    "\\end{bmatrix}\n",
    "$\n",
    "\n",
    "</center>\n",
    "\n",
    "\n",
    "\n",
    "<center>\n",
    "\n",
    "$\n",
    "\\tilde{\\hat{F}} = \\begin{bmatrix}\n",
    "k + \\frac{ak}{2h} \\\\\n",
    "k \\\\\n",
    "k \\\\\n",
    "k \\\\\n",
    "\\vdots \\\\\n",
    "k - \\frac{ak}{2h}\n",
    "\\end{bmatrix}\n",
    "$\n",
    "\n",
    "</center>"
   ]
  },
  {
   "cell_type": "code",
   "execution_count": null,
   "id": "b8780069",
   "metadata": {},
   "outputs": [],
   "source": []
  },
  {
   "cell_type": "code",
   "execution_count": null,
   "id": "98ecc8a0",
   "metadata": {},
   "outputs": [],
   "source": []
  },
  {
   "cell_type": "markdown",
   "id": "9e36f3fd",
   "metadata": {},
   "source": [
    "## Esquema t: regresivo, x: progresivo; Implicito de un paso"
   ]
  },
  {
   "cell_type": "markdown",
   "id": "70ef55af",
   "metadata": {},
   "source": [
    "$ \\frac{V_{m}^{n} - V_{m}^{n-1}}{k} + a \\frac{V_{m+1}^{n} - V_{m}^{n}}{h} = f_{m}^{n}$\n",
    "\n",
    "Despejando el tiempo nuevo $t_{n}$ en terminos del viejo tiempo $t_{n-1}$, se obtiene: \n",
    "\n",
    "$ (1 - \\frac{ka}{h}) V_{m}^{n} + \\frac{ka}{h} V_{m+1}^{n}  = kf_{m}^{n} + V_{m}^{n-1}$ con: $m=1,...,M-1$ y $n=1,..,N$"
   ]
  },
  {
   "cell_type": "markdown",
   "id": "1d7ea851",
   "metadata": {},
   "source": [
    "Resolviendo el sistema lineal de ecuaciones, nos damos cuenta que se puede resolver como una sistema matricial: <br>\n",
    "<center>\n",
    "\n",
    "$AV^{n} = V^{n-1} + \\hat{F}$\n",
    "\n",
    "</center>\n",
    "\n",
    "Lo que nos da la matriz $A$ como:\n",
    "\n",
    "<center>\n",
    "\n",
    "$\n",
    "A = \\begin{bmatrix}\n",
    "1-\\frac{ak}{h} & \\frac{ak}{h}    & 0               & 0                & 0               & 0              \\\\\n",
    "0              & 1-\\frac{ak}{h}  & \\frac{ak}{h}    & 0                & 0               & \\vdots         \\\\\n",
    "0              & 0               & 1-\\frac{ak}{h}  & \\frac{ak}{h}     & 0               & \\vdots         \\\\\n",
    "0              & 0               & 0               & 1-\\frac{ak}{h}   & \\ddots          & 0              \\\\\n",
    "\\vdots         & \\vdots          & \\vdots          & 0                & \\ddots          & \\frac{ak}{h}  \\\\\n",
    "0              & 0               & 0               & 0                & 0               & 1-\\frac{ak}{h} \\\\\n",
    "\\end{bmatrix}\n",
    "$\n",
    "\n",
    "</center>\n",
    "\n",
    "\n",
    "\n",
    "<center>\n",
    "\n",
    "$\n",
    "\\hat{F} = \\begin{bmatrix}\n",
    "k \\\\\n",
    "k \\\\\n",
    "k \\\\\n",
    "k \\\\\n",
    "\\vdots \\\\\n",
    "k - \\frac{ak}{h} \n",
    "\\end{bmatrix}\n",
    "$\n",
    "\n",
    "</center>"
   ]
  },
  {
   "cell_type": "code",
   "execution_count": null,
   "id": "3ffbd23a",
   "metadata": {},
   "outputs": [],
   "source": []
  },
  {
   "cell_type": "code",
   "execution_count": null,
   "id": "037c5522",
   "metadata": {},
   "outputs": [],
   "source": []
  },
  {
   "cell_type": "markdown",
   "id": "9110499d",
   "metadata": {},
   "source": [
    "## Esquema t: regresivo, x: regresivo; Implicito de un paso"
   ]
  },
  {
   "cell_type": "markdown",
   "id": "7f6949f2",
   "metadata": {},
   "source": [
    "$ \\frac{V_{m}^{n} - V_{m}^{n-1}}{k} + a \\frac{V_{m}^{n} - V_{m-1}^{n}}{h} = f_{m}^{n}$\n",
    "\n",
    "Despejando el tiempo nuevo $t_{n}$ en terminos del viejo tiempo $t_{n-1}$, se obtiene: \n",
    "\n",
    "$ (1 + \\frac{ka}{h}) V_{m}^{n} - \\frac{ka}{h} V_{m-1}^{n}  = kf_{m}^{n} + V_{m}^{n-1}$ con: $m=1,...,M-1$ y $n=1,..,N$"
   ]
  },
  {
   "cell_type": "markdown",
   "id": "1ae5af78",
   "metadata": {},
   "source": [
    "Resolviendo el sistema lineal de ecuaciones, nos damos cuenta que se puede resolver como una sistema matricial: <br>\n",
    "<center>\n",
    "\n",
    "$AV^{n+1} = V^{n-1} + \\tilde{F}$\n",
    "\n",
    "</center>\n",
    "\n",
    "Lo que nos da la matriz $A$ como:\n",
    "\n",
    "<center>\n",
    "\n",
    "$\n",
    "A = \\begin{bmatrix}\n",
    "1+\\frac{ak}{h} & 0               & 0               & 0                & 0               & 0              \\\\\n",
    "-\\frac{ak}{h}   & 1+\\frac{ak}{h} & 0               & 0                & 0               & \\vdots         \\\\\n",
    "0              & -\\frac{ak}{h}   & 1+\\frac{ak}{h}  & 0                & 0               & \\vdots         \\\\\n",
    "0              & 0               & -\\frac{ak}{h}   & 1+\\frac{ak}{h}   & 0               & \\vdots         \\\\\n",
    "\\vdots         & \\vdots          & 0               & \\ddots           & \\ddots          & 0              \\\\\n",
    "0              & 0               & 0               & 0                & -\\frac{ak}{h}   & 1+\\frac{ak}{h} \\\\\n",
    "\\end{bmatrix}\n",
    "$\n",
    "\n",
    "</center>\n",
    "\n",
    "\n",
    "\n",
    "<center>\n",
    "\n",
    "$\n",
    "\\tilde{F} = \\begin{bmatrix}\n",
    "k + \\frac{ak}{h} \\\\\n",
    "k \\\\\n",
    "k \\\\\n",
    "k \\\\\n",
    "\\vdots \\\\\n",
    "k  \n",
    "\\end{bmatrix}\n",
    "$\n",
    "\n",
    "</center>"
   ]
  },
  {
   "cell_type": "code",
   "execution_count": null,
   "id": "ef497119",
   "metadata": {},
   "outputs": [],
   "source": []
  },
  {
   "cell_type": "code",
   "execution_count": null,
   "id": "927fdaa8",
   "metadata": {},
   "outputs": [],
   "source": []
  },
  {
   "cell_type": "markdown",
   "id": "0d66d0d8",
   "metadata": {},
   "source": [
    "## Esquema t: regresivo, x: centrado; Implicito de un paso"
   ]
  },
  {
   "cell_type": "markdown",
   "id": "ddbd1d2f",
   "metadata": {},
   "source": [
    "$ \\frac{V_{m}^{n} - V_{m}^{n-1}}{k} + a \\frac{V_{m+1}^{n} - V_{m-1}^{n}}{2h} = f_{m}^{n}$\n",
    "\n",
    "Despejando el tiempo nuevo $t_{n}$ en terminos del viejo tiempo $t_{n-1}$, se obtiene: \n",
    "\n",
    "$ V_{m}^{n} + \\frac{ka}{2h} V_{m+1}^{n} - \\frac{ka}{2h} V_{m-1}^{n}  = kf_{m}^{n} + V_{m}^{n-1}$ con: $m=1,...,M-1$ y $n=1,..,N$"
   ]
  },
  {
   "cell_type": "markdown",
   "id": "2d429734",
   "metadata": {},
   "source": [
    "Resolviendo el sistema lineal de ecuaciones, nos damos cuenta que se puede resolver como una sistema matricial: <br>\n",
    "<center>\n",
    "\n",
    "$V^{n+1} = AV^{n} + \\tilde{\\hat{F}}$\n",
    "\n",
    "</center>\n",
    "\n",
    "Lo que nos da la matriz $A$ como:\n",
    "\n",
    "<center>\n",
    "\n",
    "$\n",
    "A = \\begin{bmatrix}\n",
    "1              & \\frac{ak}{2h}    & 0               & 0                & 0               & 0              \\\\\n",
    "-\\frac{ak}{2h} & 1               & \\frac{ak}{2h}    & 0                & 0               & \\vdots         \\\\\n",
    "0              & -\\frac{ak}{2h}  & 1               & \\frac{ak}{2h}     & 0               & \\vdots         \\\\\n",
    "0              & 0               & -\\frac{ak}{2h}  & \\ddots           & \\ddots          & 0              \\\\\n",
    "\\vdots         & \\vdots          & 0               & \\ddots           & \\ddots          & \\frac{ak}{2h}  \\\\\n",
    "0              & 0               & 0               & 0                & -\\frac{ak}{2h}  & 1              \\\\\n",
    "\\end{bmatrix}\n",
    "$\n",
    "\n",
    "</center>\n",
    "\n",
    "\n",
    "\n",
    "<center>\n",
    "\n",
    "$\n",
    "\\tilde{\\hat{F}} = \\begin{bmatrix}\n",
    "k + \\frac{ak}{2h} \\\\\n",
    "k \\\\\n",
    "k \\\\\n",
    "k \\\\\n",
    "\\vdots \\\\\n",
    "k - \\frac{ak}{2h}\n",
    "\\end{bmatrix}\n",
    "$\n",
    "\n",
    "</center>"
   ]
  },
  {
   "cell_type": "code",
   "execution_count": null,
   "id": "1d4d6902",
   "metadata": {},
   "outputs": [],
   "source": []
  },
  {
   "cell_type": "code",
   "execution_count": null,
   "id": "79558aff",
   "metadata": {},
   "outputs": [],
   "source": []
  },
  {
   "cell_type": "markdown",
   "id": "abcd3537",
   "metadata": {},
   "source": [
    "## Esquema t: centrado, x: progresivo; Explicito de dos pasos"
   ]
  },
  {
   "cell_type": "markdown",
   "id": "20687492",
   "metadata": {},
   "source": [
    "$ \\frac{V_{m}^{n+1} - V_{m}^{n-1}}{2k} + a \\frac{V_{m+1}^{n} - V_{m}^{n}}{h} = f_{m}^{n}$\n",
    "\n",
    "Despejando el tiempo nuevo $t_{n}$ y $t_{n+1}$ en terminos del viejo tiempo $t_{n-1}$, se obtiene: \n",
    "\n",
    "$ V_{m}^{n+1} + \\frac{2ka}{h} V_{m+1}^{n} - \\frac{2ka}{h} V_{m}^{n}  = 2kf_{m}^{n} + V_{m}^{n-1}$ con: $m=1,...,M-1$ y $n=1,..,N$"
   ]
  },
  {
   "cell_type": "code",
   "execution_count": null,
   "id": "f0786339",
   "metadata": {},
   "outputs": [],
   "source": []
  },
  {
   "cell_type": "code",
   "execution_count": null,
   "id": "33753d71",
   "metadata": {},
   "outputs": [],
   "source": []
  },
  {
   "cell_type": "markdown",
   "id": "9c5fd120",
   "metadata": {},
   "source": [
    "## Esquema t: centrado, x: regresivo; Explicito de dos pasos"
   ]
  },
  {
   "cell_type": "markdown",
   "id": "daa819bc",
   "metadata": {},
   "source": [
    "$ \\frac{V_{m}^{n+1} - V_{m}^{n-1}}{2k} + a \\frac{V_{m}^{n} - V_{m-1}^{n}}{h} = f_{m}^{n}$\n",
    "\n",
    "Despejando el tiempo nuevo $t_{n}$ y $t_{n+1}$ en terminos del viejo tiempo $t_{n-1}$, se obtiene:\n",
    "\n",
    "$ V_{m}^{n+1} + \\frac{2ka}{h} V_{m}^{n} - \\frac{2ka}{h} V_{m-1}^{n}  = 2kf_{m}^{n} + V_{m}^{n-1}$ con: $m=1,...,M-1$ y $n=1,..,N$"
   ]
  },
  {
   "cell_type": "code",
   "execution_count": null,
   "id": "29b69469",
   "metadata": {},
   "outputs": [],
   "source": []
  },
  {
   "cell_type": "code",
   "execution_count": null,
   "id": "4b0cef14",
   "metadata": {},
   "outputs": [],
   "source": []
  },
  {
   "cell_type": "markdown",
   "id": "4ee937fb",
   "metadata": {},
   "source": [
    "## Esquema t: centrado, x: centrado (Leapfrog); Explicito de dos pasos"
   ]
  },
  {
   "cell_type": "markdown",
   "id": "2e02bbec",
   "metadata": {},
   "source": [
    "$ \\frac{V_{m}^{n+1} - V_{m}^{n-1}}{2k} + a \\frac{V_{m+1}^{n} - V_{m-1}^{n}}{2h} = f_{m}^{n}$\n",
    "\n",
    "Despejando el tiempo nuevo $t_{n}$ y $t_{n+1}$ en terminos del viejo tiempo $t_{n-1}$, se obtiene:\n",
    "\n",
    "$ V_{m}^{n+1} + \\frac{ka}{h} V_{m+1}^{n} - \\frac{ka}{h} V_{m-1}^{n}  = 2kf_{m}^{n} + V_{m}^{n-1}$ con: $m=1,...,M-1$ y $n=1,..,N$"
   ]
  },
  {
   "cell_type": "code",
   "execution_count": null,
   "id": "1bd8c62b",
   "metadata": {},
   "outputs": [],
   "source": []
  },
  {
   "cell_type": "code",
   "execution_count": null,
   "id": "b82d4604",
   "metadata": {},
   "outputs": [],
   "source": []
  },
  {
   "cell_type": "markdown",
   "id": "ca42bd78",
   "metadata": {},
   "source": [
    "## Esquema Lax Friedrichs, Explicito de un paso\n",
    "\n",
    "$\\frac{V_{m}^{n+1} - \\frac{1}{2} (V_{m+1}^{n} + V_{m-1}^{n})}{k} + a \\frac{V_{m+1}^{n} - V_{m-1}^{n}}{2h} = f_{m}^{n}$\n",
    " \n",
    "\n",
    "$V_{m}^{n+1} = k f_m^n - \\frac{ak}{2h}V_{m+1}^{n} + \\frac{ak}{2h}V_{m-1}^{n} + \\frac{1}{2}V_{m+1}^{n} + \\frac{1}{2}V_{m-1}^{n} $\n",
    "\n",
    "$V_{m}^{n+1} = k f_m^n + \\frac{h-ak}{2h}V_{m+1}^{n} + \\frac{h+ak}{2h}V_{m-1}^{n} $"
   ]
  },
  {
   "cell_type": "code",
   "execution_count": null,
   "id": "8d353f39",
   "metadata": {},
   "outputs": [],
   "source": []
  },
  {
   "cell_type": "code",
   "execution_count": null,
   "id": "3ea7ca4a",
   "metadata": {},
   "outputs": [],
   "source": []
  },
  {
   "cell_type": "markdown",
   "id": "8111f6ea",
   "metadata": {},
   "source": [
    "# Demostración del esquema (*)"
   ]
  },
  {
   "cell_type": "markdown",
   "id": "0634b6cd",
   "metadata": {},
   "source": [
    "Definimos al esquema (*) como: <br>\n",
    "<center>\n",
    "\n",
    "$\\frac{V_m^{n+1} - V_m^n}{k} + \\frac{a}{2}(\\frac{v_{m+1}^{n+1} - V_{m}^{n+1}}{h} + \\frac{V_m^n - V_{m-1}^n}{h}) = f_m^n$\n",
    "\n",
    "</center>"
   ]
  },
  {
   "cell_type": "markdown",
   "id": "74bca83d",
   "metadata": {},
   "source": []
  },
  {
   "cell_type": "markdown",
   "id": "fccb3392",
   "metadata": {},
   "source": [
    "# Demostrar\n",
    "$f^{'}(x_0) = \\frac{f^{'}(x_0+h) + f^{'}(x_0-h)}{2}$"
   ]
  },
  {
   "cell_type": "markdown",
   "id": "c0ff0d7f",
   "metadata": {},
   "source": []
  }
 ],
 "metadata": {
  "kernelspec": {
   "display_name": "Python 3",
   "language": "python",
   "name": "python3"
  },
  "language_info": {
   "codemirror_mode": {
    "name": "ipython",
    "version": 3
   },
   "file_extension": ".py",
   "mimetype": "text/x-python",
   "name": "python",
   "nbconvert_exporter": "python",
   "pygments_lexer": "ipython3",
   "version": "3.12.6"
  }
 },
 "nbformat": 4,
 "nbformat_minor": 5
}

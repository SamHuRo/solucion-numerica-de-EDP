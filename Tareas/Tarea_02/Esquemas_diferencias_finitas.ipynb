{
 "cells": [
  {
   "cell_type": "markdown",
   "id": "f18d4a5e",
   "metadata": {},
   "source": [
    "---\n",
    "\n",
    "<center>\n",
    "\n",
    "# **Esquemas de Diferencias Finitas**\n",
    "\n",
    "**Made by:**\n",
    "\n",
    "Samuel Huertas Rojas\n",
    "\n",
    "</center>\n",
    "\n",
    "---"
   ]
  },
  {
   "cell_type": "markdown",
   "id": "42283693",
   "metadata": {},
   "source": [
    "# Marco teórico  "
   ]
  },
  {
   "cell_type": "markdown",
   "id": "348c0d4d",
   "metadata": {},
   "source": [
    "Para empezar a hablar de los esquemas de diferencias finitas, inicialmente se debe de considerar el problema de valores iniciales y de frontera, el cual es:  <br>\n",
    "\n",
    "<center>\n",
    "\n",
    "$\n",
    "\\begin{cases}\n",
    "u_{t}(t,x) + a u_{x}(t,x) = f(t,x), \\text{con: } x \\in (\\hat{a},b); t > 0 \\\\\n",
    "u(0,x) = u_{0}(x) \\text{con: } x \\in [\\hat{a},b] \\\\\n",
    "u(t,\\hat{a}) = g_{1}(t); t \\geq 0 \\\\\n",
    "u(t, b) = g_{2}(t); t \\geq 0\n",
    "\\end{cases}\n",
    "$\n",
    "\n",
    "</center>"
   ]
  },
  {
   "cell_type": "markdown",
   "id": "25f58f25",
   "metadata": {},
   "source": [
    "Al realizar la discretización de la región, obtenemos que el tamaño de paso espacial y temporal es:  <br>\n",
    "<center>\n",
    "\n",
    "$\n",
    "\\text{Paso espacial}\n",
    "\\begin{cases}\n",
    "h = \\frac{b - \\hat{a}}{M} \\\\\n",
    "x_{m} = \\hat{a} + mh, \\text{con: } m = 0,...,M\n",
    "\\end{cases}\n",
    "$\n",
    "\n",
    "$\n",
    "\\text{Paso temporal}\n",
    "\\begin{cases}\n",
    "k = \\frac{T}{n} \\\\\n",
    "t_{n} = nk, \\text{con: } n = 0,...,N\n",
    "\\end{cases}\n",
    "$\n",
    "\n",
    "</center>"
   ]
  },
  {
   "cell_type": "markdown",
   "id": "1b4c17c2",
   "metadata": {},
   "source": [
    "Los valores que conocemos van a ser:  <br>\n",
    "\n",
    "<center>\n",
    "\n",
    "$\n",
    "\\begin{cases}\n",
    "u(0,x_m) = u_{0}(x_m); \\text{con: } m = 0,...,M \\\\\n",
    "u(t_n, x_0) = g_1(t_n); \\text{con: } n = 1,...,N \\\\\n",
    "u(t_n, x_M) = g_2(t_n); \\text{con: } n = 1,...,N\n",
    "\\end{cases}\n",
    "$\n",
    "\n",
    "</center>"
   ]
  },
  {
   "cell_type": "markdown",
   "id": "35725941",
   "metadata": {},
   "source": [
    "Al emplear la discretización de la Ecuación Diferencial Parcial Hiperbólica (E.D.P.H) y al emplear las Diferencias Finitas (D.F), se obtiene:  <br>\n",
    "<center>\n",
    "\n",
    "$u_t(t_n,x_m) + a u_x(t_n,x_m) = f(t_n,x_m)$\n",
    "\n",
    "</center>\n",
    "\n",
    "Con: \n",
    "\n",
    "<center>\n",
    "\n",
    "$\n",
    "\\begin{cases}\n",
    "u_t(t_n,x_m) \\approx \\frac{u(t_{n+1},x_m) - u(t_n,x_m)}{k} , \\text{D.F progresiva} \\\\\n",
    "u_x(t_n,x_m) \\approx \\frac{u(t_{n},x_{m+1}) - u(t_n,x_{m-1})}{2h} , \\text{D.F centrada}\n",
    "\\end{cases}\n",
    "$\n",
    "\n",
    "</center>\n",
    "\n",
    "Para mayor facilidad se va a denotar:  \n",
    "\n",
    "* $V_{m}^{n}$ la aproximación de $u(t_n, x_m)$\n",
    "* $f_{m}^{n}$ la función $f(t_n, x_m)$"
   ]
  },
  {
   "cell_type": "markdown",
   "id": "b97344b6",
   "metadata": {},
   "source": [
    "# Importar las funciones de factorización de matrices "
   ]
  },
  {
   "cell_type": "code",
   "execution_count": null,
   "id": "b439f305",
   "metadata": {},
   "outputs": [],
   "source": [
    "import sys\n",
    "sys.path.append('../Tarea_01')\n",
    "\n",
    "import numpy as np\n",
    "from Factorizacion_matrices import factorizacion_matriz_nxn"
   ]
  },
  {
   "cell_type": "markdown",
   "id": "703e9bca",
   "metadata": {},
   "source": [
    "# Esquemas"
   ]
  },
  {
   "cell_type": "markdown",
   "id": "2bc8abb2",
   "metadata": {},
   "source": [
    "## Esquema t: progresivo, x: progresivo, Explicito\n",
    "$ \\frac{V_{m}^{n+1} - V_{m}^{n}}{k} + a \\frac{V_{m+1}^{n} - V_{m}^{n}}{h} = f_{m}^{n}$\n",
    "\n",
    "Despejando pata el timepo $t_{n+1}$:\n",
    "\n",
    "$V_{m}^{n+1} = (1-\\frac{ak}{h}) V_{m}^{n} - \\frac{ak}{h} V_{m+1}^{n} + kf_{m}^{n}$ con: $m=1,..., M-1$ y $n=0,..,N-1$"
   ]
  },
  {
   "cell_type": "code",
   "execution_count": null,
   "id": "c4dda65a",
   "metadata": {},
   "outputs": [],
   "source": []
  },
  {
   "cell_type": "code",
   "execution_count": null,
   "id": "41a3ebe0",
   "metadata": {},
   "outputs": [],
   "source": []
  },
  {
   "cell_type": "markdown",
   "id": "247a369e",
   "metadata": {},
   "source": [
    "## Esquema t: progresivo, x: regresivo, Explicito\n",
    "$ \\frac{V_{m}^{n+1} - V_{m}^{n}}{k} + a \\frac{V_{m}^{n} - V_{m-1}^{n}}{h} = f_{m}^{n}$\n",
    "\n",
    "Despejando pata el timepo $t_{n+1}$:\n",
    "\n",
    "$V_{m}^{n+1} = (1-\\frac{ak}{h}) V_{m}^{n} + \\frac{ak}{h} V_{m-1}^{n} + kf_{m}^{n}$ con: $m=1,..., M-1$ y $n=0,..,N-1$"
   ]
  },
  {
   "cell_type": "code",
   "execution_count": null,
   "id": "74ce0340",
   "metadata": {},
   "outputs": [],
   "source": []
  },
  {
   "cell_type": "code",
   "execution_count": null,
   "metadata": {},
   "outputs": [],
   "source": []
  },
  {
   "cell_type": "markdown",
   "id": "a9b20e63",
   "metadata": {},
   "source": [
    "## Esquema t: progresivo, x: centrado, Explicito\n",
    "$ \\frac{V_{m}^{n+1} - V_{m}^{n}}{k} + a \\frac{V_{m+1}^{n} - V_{m-1}^{n}}{2h} = f_{m}^{n}$\n",
    "\n",
    "Despejando pata el timepo $t_{n+1}$:\n",
    "\n",
    "$V_{m}^{n+1} = V_{m}^{n} + \\frac{ak}{2h} (V_{m-1}^{n} - V_{m+1}^{n}) + kf_{m}^{n}$ con: $m=1,..., M-1$ y $n=0,..,N-1$"
   ]
  },
  {
   "cell_type": "code",
   "execution_count": null,
   "id": "b8780069",
   "metadata": {},
   "outputs": [],
   "source": []
  },
  {
   "cell_type": "code",
   "execution_count": null,
   "id": "98ecc8a0",
   "metadata": {},
   "outputs": [],
   "source": []
  },
  {
   "cell_type": "markdown",
   "id": "8111f6ea",
   "metadata": {},
   "source": [
    "# Demostración del esquema (*)"
   ]
  },
  {
   "cell_type": "markdown",
   "id": "0634b6cd",
   "metadata": {},
   "source": [
    "Definimos al esquema (*) como: <br>\n",
    "<center>\n",
    "\n",
    "$\\frac{V_m^{n+1} - V_m^n}{k} + \\frac{a}{2}(\\frac{v_{m+1}^{n+1} - V_{m}^{n+1}}{h} + \\frac{V_m^n - V_{m-1}^n}{h}) = f_m^n$\n",
    "\n",
    "</center>"
   ]
  },
  {
   "cell_type": "markdown",
   "id": "fccb3392",
   "metadata": {},
   "source": [
    "# Demostrar\n",
    "$f^{'}(x_0) = \\frac{f^{'}(x_0+h) + f^{'}(x_0-h)}{2}$"
   ]
  },
  {
   "cell_type": "markdown",
   "id": "c0ff0d7f",
   "metadata": {},
   "source": []
  }
 ],
 "metadata": {
  "kernelspec": {
   "display_name": "Python 3",
   "language": "python",
   "name": "python3"
  },
  "language_info": {
   "codemirror_mode": {
    "name": "ipython",
    "version": 3
   },
   "file_extension": ".py",
   "mimetype": "text/x-python",
   "name": "python",
   "nbconvert_exporter": "python",
   "pygments_lexer": "ipython3",
   "version": "3.12.6"
  }
 },
 "nbformat": 4,
 "nbformat_minor": 5
}
